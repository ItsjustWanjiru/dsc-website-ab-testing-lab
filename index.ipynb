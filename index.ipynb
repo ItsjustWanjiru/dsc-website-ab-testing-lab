{
 "cells": [
  {
   "cell_type": "markdown",
   "metadata": {},
   "source": [
    "# Website A/B Testing - Lab\n",
    "\n",
    "## Introduction\n",
    "\n",
    "In this lab, you'll get another chance to practice your skills at conducting a full A/B test analysis. It will also be a chance to practice your data exploration and processing skills! The scenario you'll be investigating is data collected from the homepage of a music app page for audacity.\n",
    "\n",
    "## Objectives\n",
    "\n",
    "You will be able to:\n",
    "* Analyze the data from a website A/B test to draw relevant conclusions\n",
    "* Explore and analyze web action data"
   ]
  },
  {
   "cell_type": "markdown",
   "metadata": {},
   "source": [
    "## Exploratory Analysis\n",
    "\n",
    "Start by loading in the dataset stored in the file 'homepage_actions.csv'. Then conduct an exploratory analysis to get familiar with the data."
   ]
  },
  {
   "cell_type": "markdown",
   "metadata": {},
   "source": [
    "> Hints:\n",
    "    * Start investigating the id column:\n",
    "        * How many viewers also clicked?\n",
    "        * Are there any anomalies with the data; did anyone click who didn't view?\n",
    "        * Is there any overlap between the control and experiment groups? \n",
    "            * If so, how do you plan to account for this in your experimental design?"
   ]
  },
  {
   "cell_type": "code",
   "execution_count": 1,
   "metadata": {},
   "outputs": [
    {
     "data": {
      "text/html": [
       "<div>\n",
       "<style scoped>\n",
       "    .dataframe tbody tr th:only-of-type {\n",
       "        vertical-align: middle;\n",
       "    }\n",
       "\n",
       "    .dataframe tbody tr th {\n",
       "        vertical-align: top;\n",
       "    }\n",
       "\n",
       "    .dataframe thead th {\n",
       "        text-align: right;\n",
       "    }\n",
       "</style>\n",
       "<table border=\"1\" class=\"dataframe\">\n",
       "  <thead>\n",
       "    <tr style=\"text-align: right;\">\n",
       "      <th></th>\n",
       "      <th>timestamp</th>\n",
       "      <th>id</th>\n",
       "      <th>group</th>\n",
       "      <th>action</th>\n",
       "    </tr>\n",
       "  </thead>\n",
       "  <tbody>\n",
       "    <tr>\n",
       "      <th>0</th>\n",
       "      <td>2016-09-24 17:42:27.839496</td>\n",
       "      <td>804196</td>\n",
       "      <td>experiment</td>\n",
       "      <td>view</td>\n",
       "    </tr>\n",
       "    <tr>\n",
       "      <th>1</th>\n",
       "      <td>2016-09-24 19:19:03.542569</td>\n",
       "      <td>434745</td>\n",
       "      <td>experiment</td>\n",
       "      <td>view</td>\n",
       "    </tr>\n",
       "    <tr>\n",
       "      <th>2</th>\n",
       "      <td>2016-09-24 19:36:00.944135</td>\n",
       "      <td>507599</td>\n",
       "      <td>experiment</td>\n",
       "      <td>view</td>\n",
       "    </tr>\n",
       "    <tr>\n",
       "      <th>3</th>\n",
       "      <td>2016-09-24 19:59:02.646620</td>\n",
       "      <td>671993</td>\n",
       "      <td>control</td>\n",
       "      <td>view</td>\n",
       "    </tr>\n",
       "    <tr>\n",
       "      <th>4</th>\n",
       "      <td>2016-09-24 20:26:14.466886</td>\n",
       "      <td>536734</td>\n",
       "      <td>experiment</td>\n",
       "      <td>view</td>\n",
       "    </tr>\n",
       "  </tbody>\n",
       "</table>\n",
       "</div>"
      ],
      "text/plain": [
       "                    timestamp      id       group action\n",
       "0  2016-09-24 17:42:27.839496  804196  experiment   view\n",
       "1  2016-09-24 19:19:03.542569  434745  experiment   view\n",
       "2  2016-09-24 19:36:00.944135  507599  experiment   view\n",
       "3  2016-09-24 19:59:02.646620  671993     control   view\n",
       "4  2016-09-24 20:26:14.466886  536734  experiment   view"
      ]
     },
     "execution_count": 1,
     "metadata": {},
     "output_type": "execute_result"
    }
   ],
   "source": [
    "#Your code here\n",
    "import pandas as pd\n",
    "df = pd.read_csv('homepage_actions.csv')\n",
    "df.head()"
   ]
  },
  {
   "cell_type": "code",
   "execution_count": 2,
   "metadata": {},
   "outputs": [
    {
     "name": "stdout",
     "output_type": "stream",
     "text": [
      "Total Viewers: 6328\n",
      "Total Clickers: 1860\n"
     ]
    }
   ],
   "source": [
    "# Calculating the number of viewers and clickers\n",
    "viewers = df[df['action'] == 'view']\n",
    "clickers = df[df['action'] == 'click']\n",
    "\n",
    "num_viewers = len(viewers)\n",
    "num_clickers = len(clickers)\n",
    "\n",
    "print(f\"Total Viewers: {num_viewers}\")\n",
    "print(f\"Total Clickers: {num_clickers}\")\n"
   ]
  },
  {
   "cell_type": "code",
   "execution_count": 3,
   "metadata": {},
   "outputs": [
    {
     "name": "stdout",
     "output_type": "stream",
     "text": [
      "Number of Users in Both Control and Experiment Groups: 0\n"
     ]
    }
   ],
   "source": [
    "# Checking for overlap between control and experiment groups\n",
    "control_group = df[df['group'] == 'control']\n",
    "experiment_group = df[df['group'] == 'experiment']\n",
    "\n",
    "overlap = len(set(control_group['id']).intersection(experiment_group['id']))\n",
    "\n",
    "print(f\"Number of Users in Both Control and Experiment Groups: {overlap}\")\n"
   ]
  },
  {
   "cell_type": "markdown",
   "metadata": {},
   "source": [
    "## Conduct a Statistical Test\n",
    "\n",
    "Conduct a statistical test to determine whether the experimental homepage was more effective than that of the control group."
   ]
  },
  {
   "cell_type": "code",
   "execution_count": 4,
   "metadata": {},
   "outputs": [
    {
     "data": {
      "text/plain": [
       "'Your code here\\n# Calculate CTR for control group\\ncontrol_clicks = len(control_group[control_group[\\'action\\'] == \\'click\\'])\\ncontrol_ctr = control_clicks / len(control_group)\\n\\n# Calculate CTR for experiment group\\nexperiment_clicks = len(experiment_group[experiment_group[\\'action\\'] == \\'click\\'])\\nexperiment_ctr = experiment_clicks / len(experiment_group)\\n\\nprint(f\"Control Group CTR: {control_ctr:.4f}\")\\nprint(f\"Experiment Group CTR: {experiment_ctr:.4f}\")'"
      ]
     },
     "execution_count": 4,
     "metadata": {},
     "output_type": "execute_result"
    }
   ],
   "source": [
    "'''Your code here\n",
    "# Calculate CTR for control group\n",
    "control_clicks = len(control_group[control_group['action'] == 'click'])\n",
    "control_ctr = control_clicks / len(control_group)\n",
    "\n",
    "# Calculate CTR for experiment group\n",
    "experiment_clicks = len(experiment_group[experiment_group['action'] == 'click'])\n",
    "experiment_ctr = experiment_clicks / len(experiment_group)\n",
    "\n",
    "print(f\"Control Group CTR: {control_ctr:.4f}\")\n",
    "print(f\"Experiment Group CTR: {experiment_ctr:.4f}\")'''\n"
   ]
  },
  {
   "cell_type": "code",
   "execution_count": 5,
   "metadata": {},
   "outputs": [
    {
     "name": "stdout",
     "output_type": "stream",
     "text": [
      "[932, 2400]\n",
      "[928, 2068]\n"
     ]
    }
   ],
   "source": [
    "# Count the number of click and non-click events in the control and experiment groups\n",
    "control_clicks = len(control_group[control_group['action'] == 'click'])\n",
    "control_non_clicks = len(control_group[control_group['action'] == 'view']) - control_clicks\n",
    "\n",
    "experiment_clicks = len(experiment_group[experiment_group['action'] == 'click'])\n",
    "experiment_non_clicks = len(experiment_group[experiment_group['action'] == 'view']) - experiment_clicks\n",
    "\n",
    "# Create the contingency table as a nested list\n",
    "contingency_table = [\n",
    "    [control_clicks, control_non_clicks],\n",
    "    [experiment_clicks, experiment_non_clicks]\n",
    "]\n",
    "\n",
    "# Print the contingency table\n",
    "for row in contingency_table:\n",
    "    print(row)\n"
   ]
  },
  {
   "cell_type": "code",
   "execution_count": 9,
   "metadata": {},
   "outputs": [
    {
     "name": "stdout",
     "output_type": "stream",
     "text": [
      "Chi-squared statistic: 6.7129\n",
      "P-value: 0.0096\n",
      "Degrees of Freedom: 1\n",
      "Expected Frequencies Table:\n",
      "[ 979.38053097 2352.61946903]\n",
      "[ 880.61946903 2115.38053097]\n"
     ]
    }
   ],
   "source": [
    "from scipy.stats import chi2_contingency\n",
    "\n",
    "# Contingency table\n",
    "contingency_table = [\n",
    "    [control_clicks, control_non_clicks],\n",
    "    [experiment_clicks, experiment_non_clicks]\n",
    "]\n",
    "\n",
    "# Perform the chi-squared test\n",
    "chi2, p, dof, expected = chi2_contingency(contingency_table)\n",
    "\n",
    "# Print the results\n",
    "print(f\"Chi-squared statistic: {chi2:.4f}\")\n",
    "print(f\"P-value: {p:.4f}\")\n",
    "print(f\"Degrees of Freedom: {dof}\")\n",
    "print(\"Expected Frequencies Table:\")\n",
    "for row in expected:\n",
    "    print(row)\n"
   ]
  },
  {
   "cell_type": "markdown",
   "metadata": {},
   "source": [
    "## Verifying Results\n",
    "\n",
    "One sensible formulation of the data to answer the hypothesis test above would be to create a binary variable representing each individual in the experiment and control group. This binary variable would represent whether or not that individual clicked on the homepage; 1 for they did and 0 if they did not. \n",
    "\n",
    "The variance for the number of successes in a sample of a binomial variable with n observations is given by:\n",
    "\n",
    "## $n\\bullet p (1-p)$\n",
    "\n",
    "Given this, perform 3 steps to verify the results of your statistical test:\n",
    "1. Calculate the expected number of clicks for the experiment group, if it had the same click-through rate as that of the control group. \n",
    "2. Calculate the number of standard deviations that the actual number of clicks was from this estimate. \n",
    "3. Finally, calculate a p-value using the normal distribution based on this z-score."
   ]
  },
  {
   "cell_type": "markdown",
   "metadata": {},
   "source": [
    "### Step 1:\n",
    "Calculate the expected number of clicks for the experiment group, if it had the same click-through rate as that of the control group. "
   ]
  },
  {
   "cell_type": "code",
   "execution_count": 10,
   "metadata": {},
   "outputs": [],
   "source": [
    "#Your code here\n",
    "# Calculate the pooled click-through rate\n",
    "pooled_ctr = (control_clicks + experiment_clicks) / (len(control_group) + len(experiment_group))\n",
    "\n",
    "# Calculate the expected number of clicks for the experiment group\n",
    "expected_clicks_experiment = len(experiment_group) * pooled_ctr\n"
   ]
  },
  {
   "cell_type": "markdown",
   "metadata": {},
   "source": [
    "### Step 2:\n",
    "Calculate the number of standard deviations that the actual number of clicks was from this estimate."
   ]
  },
  {
   "cell_type": "code",
   "execution_count": 11,
   "metadata": {},
   "outputs": [],
   "source": [
    "#Your code here\n",
    "import math\n",
    "\n",
    "# Calculate the standard error using the binomial variance formula\n",
    "n_experiment = len(experiment_group)\n",
    "variance_experiment = n_experiment * pooled_ctr * (1 - pooled_ctr)\n",
    "standard_error = math.sqrt(variance_experiment)\n",
    "\n",
    "# Calculate the z-score\n",
    "z_score = (experiment_clicks - expected_clicks_experiment) / standard_error\n"
   ]
  },
  {
   "cell_type": "markdown",
   "metadata": {},
   "source": [
    "### Step 3: \n",
    "Finally, calculate a p-value using the normal distribution based on this z-score."
   ]
  },
  {
   "cell_type": "code",
   "execution_count": 12,
   "metadata": {},
   "outputs": [
    {
     "name": "stdout",
     "output_type": "stream",
     "text": [
      "Expected Clicks for Experiment Group: 891.38\n",
      "Z-Score: 1.3951\n",
      "P-Value: 0.0815\n"
     ]
    }
   ],
   "source": [
    "#Your code here\n",
    "from scipy.stats import norm\n",
    "\n",
    "# Calculate the p-value\n",
    "p_value = 1 - norm.cdf(z_score)  # Use 1 - CDF to get the upper tail probability\n",
    "\n",
    "print(f\"Expected Clicks for Experiment Group: {expected_clicks_experiment:.2f}\")\n",
    "print(f\"Z-Score: {z_score:.4f}\")\n",
    "print(f\"P-Value: {p_value:.4f}\")\n"
   ]
  },
  {
   "cell_type": "markdown",
   "metadata": {},
   "source": [
    "### Analysis:\n",
    "\n",
    "Does this result roughly match that of the previous statistical test?\n",
    "\n",
    "> Comment: **Your analysis here**\n",
    "\n",
    "The chi-squared test results suggest a statistically significant difference, while the z-test results do not provide strong evidence for such a difference.\n",
    "The p-values from the two tests are substantially different (0.0096 vs. 0.0815)."
   ]
  },
  {
   "cell_type": "markdown",
   "metadata": {},
   "source": [
    "## Summary\n",
    "\n",
    "In this lab, you continued to get more practice designing and conducting AB tests. This required additional work preprocessing and formulating the initial problem in a suitable manner. Additionally, you also saw how to verify results, strengthening your knowledge of binomial variables, and reviewing initial statistical concepts of the central limit theorem, standard deviation, z-scores, and their accompanying p-values."
   ]
  }
 ],
 "metadata": {
  "kernelspec": {
   "display_name": "Python 3 (ipykernel)",
   "language": "python",
   "name": "python3"
  },
  "language_info": {
   "codemirror_mode": {
    "name": "ipython",
    "version": 3
   },
   "file_extension": ".py",
   "mimetype": "text/x-python",
   "name": "python",
   "nbconvert_exporter": "python",
   "pygments_lexer": "ipython3",
   "version": "3.10.9"
  }
 },
 "nbformat": 4,
 "nbformat_minor": 2
}
